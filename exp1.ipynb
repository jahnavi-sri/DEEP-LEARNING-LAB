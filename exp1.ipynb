{
 "cells": [
  {
   "cell_type": "code",
   "execution_count": 1,
   "id": "cfc56b28-0276-40b9-b46e-84bcb3ea5dd2",
   "metadata": {},
   "outputs": [],
   "source": [
    "import os\n",
    "os.environ['TF_CPP_MIN_LOG_LEVEL']='2'\n"
   ]
  },
  {
   "cell_type": "code",
   "execution_count": 2,
   "id": "8e515b27-eac7-4a8f-824c-ee2a56d9b77b",
   "metadata": {},
   "outputs": [],
   "source": [
    "import tensorflow as tf"
   ]
  },
  {
   "cell_type": "code",
   "execution_count": 3,
   "id": "1eb7f254-91b1-45fe-93e1-d8ef4f9ab637",
   "metadata": {},
   "outputs": [
    {
     "name": "stdout",
     "output_type": "stream",
     "text": [
      "(2, 3)\n"
     ]
    }
   ],
   "source": [
    "x=tf.constant(4.0)\n",
    "x=tf.constant(4,shape=(1,1),dtype=tf.float32)\n",
    "y=tf.constant([[1,2,3],[4,5,6]])\n",
    "print(y.shape)"
   ]
  },
  {
   "cell_type": "code",
   "execution_count": 4,
   "id": "483e4235-e485-42dc-8701-aa026ca8209f",
   "metadata": {},
   "outputs": [
    {
     "name": "stdout",
     "output_type": "stream",
     "text": [
      "tf.Tensor(\n",
      "[[1. 1. 1.]\n",
      " [1. 1. 1.]\n",
      " [1. 1. 1.]], shape=(3, 3), dtype=float32)\n"
     ]
    }
   ],
   "source": [
    "x=tf.ones((3,3))\n",
    "print(x)\n"
   ]
  },
  {
   "cell_type": "code",
   "execution_count": 6,
   "id": "5b6f4e9a-dd22-4c06-9161-3c586f4595cf",
   "metadata": {},
   "outputs": [
    {
     "name": "stdout",
     "output_type": "stream",
     "text": [
      "tf.Tensor(\n",
      "[[0. 0. 0.]\n",
      " [0. 0. 0.]], shape=(2, 3), dtype=float32)\n"
     ]
    }
   ],
   "source": [
    "x=tf.zeros((2,3))\n",
    "print(x)"
   ]
  },
  {
   "cell_type": "code",
   "execution_count": 7,
   "id": "9b97d87d-ee5c-4580-8cac-3cc4309e48d1",
   "metadata": {},
   "outputs": [
    {
     "name": "stdout",
     "output_type": "stream",
     "text": [
      "tf.Tensor(\n",
      "[[1. 0. 0.]\n",
      " [0. 1. 0.]\n",
      " [0. 0. 1.]], shape=(3, 3), dtype=float32)\n"
     ]
    }
   ],
   "source": [
    "x=tf.eye(3)\n",
    "print(x)"
   ]
  },
  {
   "cell_type": "code",
   "execution_count": 8,
   "id": "0fea12a0-8b13-4135-b125-8d1a50118fe0",
   "metadata": {},
   "outputs": [
    {
     "name": "stdout",
     "output_type": "stream",
     "text": [
      "tf.Tensor(\n",
      "[[ 0.5826625  -0.37781137 -0.574795  ]\n",
      " [-1.2398969   0.05530357  0.23875451]\n",
      " [ 1.2913601  -0.2253827  -0.8320221 ]], shape=(3, 3), dtype=float32)\n"
     ]
    }
   ],
   "source": [
    "x=tf.random.normal((3,3),mean=0,stddev=1)\n",
    "print(x)"
   ]
  },
  {
   "cell_type": "code",
   "execution_count": 9,
   "id": "ba54d946-a64f-4102-b910-4392b057e75a",
   "metadata": {},
   "outputs": [
    {
     "name": "stdout",
     "output_type": "stream",
     "text": [
      "tf.Tensor(\n",
      "[[0. 0. 0.]\n",
      " [0. 0. 0.]\n",
      " [0. 0. 0.]], shape=(3, 3), dtype=float32)\n"
     ]
    }
   ],
   "source": [
    "x=tf.random.normal((3,3),mean=0,stddev=0)\n",
    "print(x)"
   ]
  },
  {
   "cell_type": "code",
   "execution_count": 10,
   "id": "2ab4c1c1-b5ec-4cc1-8f32-42fdad1fa82a",
   "metadata": {},
   "outputs": [
    {
     "name": "stdout",
     "output_type": "stream",
     "text": [
      "tf.Tensor(\n",
      "[[-0.30914176  0.92543185  2.8867388 ]\n",
      " [ 1.6669161   1.2104468   0.33765882]\n",
      " [ 1.8626602   1.9668474   1.053649  ]], shape=(3, 3), dtype=float32)\n"
     ]
    }
   ],
   "source": [
    "x=tf.random.normal((3,3),mean=1,stddev=1)\n",
    "print(x)"
   ]
  },
  {
   "cell_type": "code",
   "execution_count": 11,
   "id": "1012ee21-c7a7-4585-a87e-bd5c7cf48627",
   "metadata": {},
   "outputs": [
    {
     "name": "stdout",
     "output_type": "stream",
     "text": [
      "tf.Tensor([0 1 2 3 4 5 6 7 8], shape=(9,), dtype=int32)\n"
     ]
    }
   ],
   "source": [
    "x=tf.range(9)\n",
    "print(x)"
   ]
  },
  {
   "cell_type": "code",
   "execution_count": 12,
   "id": "a8373dfd-a000-488d-ae18-6cc4ffde3f35",
   "metadata": {},
   "outputs": [
    {
     "name": "stdout",
     "output_type": "stream",
     "text": [
      "tf.Tensor([1 3 5 7 9], shape=(5,), dtype=int32)\n"
     ]
    }
   ],
   "source": [
    "x=tf.range(start=1,limit=10,delta=2)\n",
    "print(x)"
   ]
  },
  {
   "cell_type": "code",
   "execution_count": 13,
   "id": "9f339cfc-68ea-4551-833b-097a20ff6d6b",
   "metadata": {},
   "outputs": [
    {
     "name": "stdout",
     "output_type": "stream",
     "text": [
      "tf.Tensor(4.5, shape=(), dtype=float64)\n"
     ]
    }
   ],
   "source": [
    "x=4.5\n",
    "y=tf.cast(x,dtype=tf.float64)\n",
    "print(y)"
   ]
  },
  {
   "cell_type": "code",
   "execution_count": 15,
   "id": "6b7ef3be-a626-4d19-89b4-2ce5f0bdcb03",
   "metadata": {},
   "outputs": [],
   "source": [
    "import os\n",
    "os.environ['TF_CPP_MIN_LOG_LEVEL']='2'\n",
    "import tensorflow as tf"
   ]
  },
  {
   "cell_type": "code",
   "execution_count": null,
   "id": "5e43da7e-8bfb-4c76-98d5-ce8e617a34f7",
   "metadata": {},
   "outputs": [],
   "source": [
    "#NUMERICAL OPERATIONS"
   ]
  },
  {
   "cell_type": "code",
   "execution_count": 16,
   "id": "3d821836-34bc-4ede-9c4b-57528b631150",
   "metadata": {},
   "outputs": [
    {
     "name": "stdout",
     "output_type": "stream",
     "text": [
      "tf.Tensor([10 10 10], shape=(3,), dtype=int32)\n"
     ]
    }
   ],
   "source": [
    "x=tf.constant([1,2,3])\n",
    "y=tf.constant([9,8,7])\n",
    "z=tf.add(x,y)\n",
    "print(z)\n"
   ]
  },
  {
   "cell_type": "code",
   "execution_count": 17,
   "id": "077a88a1-a024-4728-8d53-35c85ce57b13",
   "metadata": {},
   "outputs": [
    {
     "name": "stdout",
     "output_type": "stream",
     "text": [
      "tf.Tensor([-8 -6 -4], shape=(3,), dtype=int32)\n"
     ]
    }
   ],
   "source": [
    "z1=tf.subtract(x,y)\n",
    "print(z1)"
   ]
  },
  {
   "cell_type": "code",
   "execution_count": 19,
   "id": "3351f247-2b5e-4785-93c5-fd0bef4afcae",
   "metadata": {},
   "outputs": [
    {
     "name": "stdout",
     "output_type": "stream",
     "text": [
      "tf.Tensor([0.11111111 0.25       0.42857143], shape=(3,), dtype=float64)\n"
     ]
    }
   ],
   "source": [
    "z2=tf.divide(x,y)\n",
    "print(z2)"
   ]
  },
  {
   "cell_type": "code",
   "execution_count": 20,
   "id": "5252c3ba-618c-411a-9fdd-12549c9763fc",
   "metadata": {},
   "outputs": [
    {
     "name": "stdout",
     "output_type": "stream",
     "text": [
      "tf.Tensor(46, shape=(), dtype=int32)\n"
     ]
    }
   ],
   "source": [
    "z3=tf.tensordot(x,y,axes=1)\n",
    "print(z3)"
   ]
  },
  {
   "cell_type": "code",
   "execution_count": 25,
   "id": "9d5bbe68-ae5d-4373-8c68-39223ebc0432",
   "metadata": {},
   "outputs": [
    {
     "name": "stdout",
     "output_type": "stream",
     "text": [
      "tf.Tensor(\n",
      "[[ 2.62754   -1.2600309  1.390445 ]\n",
      " [ 1.3756189  0.4549234 -1.1096292]], shape=(2, 3), dtype=float32)\n",
      "tf.Tensor(\n",
      "[[ 0.895294    0.512434    0.95601773 -0.498115    1.2020854  -0.3977576 ]\n",
      " [ 0.6235851   0.40896976  1.5808327   0.57981354 -1.8097448   0.05688135]\n",
      " [-0.91072845  0.94127387 -0.8346964  -0.97296655  3.0231683   1.6026627 ]], shape=(3, 6), dtype=float32)\n"
     ]
    }
   ],
   "source": [
    "x1=tf.random.normal((2,3))\n",
    "x2=tf.random.normal((3,6))\n",
    "print(x1)\n",
    "print(x2)\n"
   ]
  },
  {
   "cell_type": "code",
   "execution_count": 26,
   "id": "de74ab7c-5c17-480b-aa69-010c2ab34bfc",
   "metadata": {},
   "outputs": [
    {
     "name": "stdout",
     "output_type": "stream",
     "text": [
      "tf.Tensor(\n",
      "[[ 0.3003664   2.139916   -0.6405225  -3.3922567   9.642411    1.111618  ]\n",
      " [ 2.5258377  -0.15350115  2.9604774   0.6581863  -2.5242796  -2.2996473 ]], shape=(2, 6), dtype=float32)\n"
     ]
    }
   ],
   "source": [
    "z4=tf.matmul(x1,x2)\n",
    "print(z4)"
   ]
  },
  {
   "cell_type": "code",
   "execution_count": null,
   "id": "baffa7cc-eddd-4dbb-b54c-e003ffac241d",
   "metadata": {},
   "outputs": [],
   "source": [
    "#RAGGED MATRIX"
   ]
  },
  {
   "cell_type": "code",
   "execution_count": 30,
   "id": "057d6146-9f3b-453d-9b6a-7143439fc1fb",
   "metadata": {},
   "outputs": [
    {
     "name": "stdout",
     "output_type": "stream",
     "text": [
      "Ragged Tensor:\n"
     ]
    },
    {
     "data": {
      "text/plain": [
       "<tf.RaggedTensor [[1, 2], [3, 4, 5], [6], [7, 8, 9, 10]]>"
      ]
     },
     "execution_count": 30,
     "metadata": {},
     "output_type": "execute_result"
    }
   ],
   "source": [
    "import tensorflow as tf\n",
    "ragged_data=[[1,2],\n",
    "             [3,4,5],\n",
    "             [6],\n",
    "             [7,8,9,10]]\n",
    "ragged_tensor=tf.ragged.constant(ragged_data)\n",
    "print(\"Ragged Tensor:\")\n",
    "ragged_tensor"
   ]
  },
  {
   "cell_type": "code",
   "execution_count": null,
   "id": "010b5aa1-f2ba-4aa0-96e0-3f1cd82e6215",
   "metadata": {},
   "outputs": [],
   "source": [
    "#SPARSE MATRIX"
   ]
  },
  {
   "cell_type": "code",
   "execution_count": 29,
   "id": "0dbdb1dd-0248-404e-9d3b-994ba523eff2",
   "metadata": {},
   "outputs": [
    {
     "name": "stdout",
     "output_type": "stream",
     "text": [
      "Sparse Tensor:\n",
      "SparseTensor(indices=tf.Tensor(\n",
      "[[0 2]\n",
      " [2 1]], shape=(2, 2), dtype=int64), values=tf.Tensor([3 2], shape=(2,), dtype=int32), dense_shape=tf.Tensor([3 4], shape=(2,), dtype=int64))\n"
     ]
    }
   ],
   "source": [
    "import tensorflow as tf\n",
    "dense_data=[[0,0,3,0],\n",
    "            [0,0,0,0],\n",
    "            [0,2,0,0]]\n",
    "sparse_tensor=tf.sparse.from_dense(dense_data)\n",
    "print(\"Sparse Tensor:\")\n",
    "print(sparse_tensor)"
   ]
  },
  {
   "cell_type": "code",
   "execution_count": null,
   "id": "c76516ec-27d9-467a-8afb-69fb5c92b548",
   "metadata": {},
   "outputs": [],
   "source": []
  }
 ],
 "metadata": {
  "kernelspec": {
   "display_name": "DLlab",
   "language": "python",
   "name": "dllab"
  },
  "language_info": {
   "codemirror_mode": {
    "name": "ipython",
    "version": 3
   },
   "file_extension": ".py",
   "mimetype": "text/x-python",
   "name": "python",
   "nbconvert_exporter": "python",
   "pygments_lexer": "ipython3",
   "version": "3.8.10"
  }
 },
 "nbformat": 4,
 "nbformat_minor": 5
}
